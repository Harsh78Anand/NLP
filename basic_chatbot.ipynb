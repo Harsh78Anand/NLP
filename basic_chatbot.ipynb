{
  "nbformat": 4,
  "nbformat_minor": 0,
  "metadata": {
    "colab": {
      "name": "basic_chatbot.ipynb",
      "provenance": [],
      "collapsed_sections": []
    },
    "kernelspec": {
      "name": "python3",
      "display_name": "Python 3"
    }
  },
  "cells": [
    {
      "cell_type": "code",
      "metadata": {
        "id": "LjGEUs9yqejW"
      },
      "source": [
        "! pip install chatterbot"
      ],
      "execution_count": null,
      "outputs": []
    },
    {
      "cell_type": "code",
      "metadata": {
        "id": "Sgxk9qDcsbtZ"
      },
      "source": [
        "pip install chatterbot-corpus"
      ],
      "execution_count": null,
      "outputs": []
    },
    {
      "cell_type": "code",
      "metadata": {
        "id": "VCi8u0FDs7XN"
      },
      "source": [
        "from chatterbot import ChatBot\n",
        "from chatterbot.trainers import ListTrainer\n",
        "mychatbot=ChatBot(\"Ashish Robot\")\n",
        "train_data=ListTrainer(mychatbot)\n",
        "statements=[\"hi,how may i assist you\",\n",
        "            \"I am looking to learn Machine Learning\",\n",
        "            \"your bus ticket has neen booked for Kolkata\",\n",
        "            \"i want to order my pizza\"]\n",
        "train_data.train(statements)\n",
        "my_result=mychatbot.get_response(\"help me\")\n",
        "print(my_result)"
      ],
      "execution_count": null,
      "outputs": []
    },
    {
      "cell_type": "code",
      "metadata": {
        "id": "fJd0dt0Uu38I"
      },
      "source": [
        "from chatterbot import ChatBot\n",
        "from chatterbot.trainers import ListTrainer\n",
        "mychatbot=ChatBot(\"Ashish Robot\")\n",
        "train_data=ListTrainer(mychatbot)\n",
        "statements=[\"hi,how may i assist you\",\n",
        "            \"I am looking to learn Machine Learning\",\n",
        "            \"your bus ticket has neen booked for Kolkata\",\n",
        "            \"i want to order my pizza\"]\n",
        "train_data.train(statements)\n",
        "my_result=mychatbot.get_response(\"order pizza\")\n",
        "print(my_result)"
      ],
      "execution_count": null,
      "outputs": []
    },
    {
      "cell_type": "code",
      "metadata": {
        "id": "mdcmQsIFvhSH"
      },
      "source": [
        "# my_bot=ChatBot(\"Math Bot\",logic_adapters=['chatterbot.logic.MathematicalEvaluation'])\n",
        "# question=input(\"Enter Question\")\n",
        "# my_result=my_bot.get_response(question)\n",
        "# print(my_result)"
      ],
      "execution_count": null,
      "outputs": []
    },
    {
      "cell_type": "code",
      "metadata": {
        "id": "M61UNAgDzQy0"
      },
      "source": [
        "my_bot=ChatBot(\"Math Bot\",logic_adapters=['chatterbot.logic.TimeLogicAdapter'])\n",
        "question=input(\"Enter Question\")\n",
        "my_result=my_bot.get_response(question)\n",
        "print(my_result)"
      ],
      "execution_count": null,
      "outputs": []
    },
    {
      "cell_type": "code",
      "metadata": {
        "id": "7HyciQLbzzTY"
      },
      "source": [
        "my_bot=ChatBot('Unit Converter',logic_adapters=['chatterbot.logic.UnitConversion',])\n",
        "question=input(\"Enter Question\")\n",
        "my_result=my_bot.get_response(question)\n",
        "print(my_result)"
      ],
      "execution_count": null,
      "outputs": []
    },
    {
      "cell_type": "code",
      "metadata": {
        "id": "xwLOkNwR2HDx"
      },
      "source": [
        "mybot=ChatBot('My Terminal',storage_adapter='chatterbot.storage.SQLStorageAdapter',\n",
        "              logic_adapters=['chatterbot.logic.UnitConversion',\n",
        "                              'chatterbot.logic.TimeLogicAdapter',\n",
        "                              'chatterbot.logic.MathematicalEvaluation',\n",
        "                              'chatterbot.logic.BestMatch'],\n",
        "              database_uri='sqlite:///database.db')\n",
        "print(\"My Chat Bot Demo\")\n",
        "while True:\n",
        "  try:\n",
        "    my_question=input()\n",
        "    my_result=mybot.get_response(my_question)\n",
        "    print(my_result)\n",
        "  except (KeyboardInterrupt,EOFError, SystemExit):\n",
        "    break\n"
      ],
      "execution_count": null,
      "outputs": []
    },
    {
      "cell_type": "code",
      "metadata": {
        "id": "QqqsdE425dzF"
      },
      "source": [
        "from chatterbot.conversation import Statement\n",
        "mybot=ChatBot('My Bot',database_uri=None)\n",
        "label_statements_a=[\n",
        "                    Statement(text=\"hello\", tags=['la']),\n",
        "                    Statement(text=\"hi\", tags=['la']),\n",
        "                    Statement(text=\"how are you ?\", tags=['la'])\n",
        "]\n",
        "label_statements_b=[\n",
        "                    Statement(text=\"I like pizza\", tags=['lb']),\n",
        "                    Statement(text=\"I like softdrinks\", tags=['lb']),\n",
        "                    Statement(text=\"I like coffee\", tags=['lb'])\n",
        "]\n",
        "mybot.storage.create_many(label_statements_a+label_statements_b)\n",
        "responseFromLabela=mybot.get_response('how are you ?',additional_response_selection_parameters={'tags':['la']})\n",
        "responseFromLabelb=mybot.get_response('how are you ?',additional_response_selection_parameters={'tags':['lb']})\n",
        "print(responseFromLabela.text)\n",
        "print(responseFromLabelb.text)"
      ],
      "execution_count": null,
      "outputs": []
    }
  ]
}